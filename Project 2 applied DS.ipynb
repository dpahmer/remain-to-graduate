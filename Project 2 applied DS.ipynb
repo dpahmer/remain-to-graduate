{
 "cells": [
  {
   "cell_type": "markdown",
   "id": "f0528155",
   "metadata": {},
   "source": [
    "### Project 2: Predicting Student Failure \n",
    "#### David Pahmer"
   ]
  },
  {
   "cell_type": "markdown",
   "id": "5f39b54a",
   "metadata": {},
   "source": [
    "##### Prepping the Data"
   ]
  },
  {
   "cell_type": "code",
   "execution_count": 26,
   "id": "6dbd01da",
   "metadata": {},
   "outputs": [],
   "source": [
    "import pandas as pd, numpy as np\n",
    "from matplotlib import pyplot as plt\n",
    "df=pd.read_excel('student_data_for_study.xlsx')"
   ]
  },
  {
   "cell_type": "markdown",
   "id": "f85f20d5",
   "metadata": {},
   "source": [
    "Let's clean up the majors: applied and graduated. Change the number 0 to UND."
   ]
  },
  {
   "cell_type": "code",
   "execution_count": 27,
   "id": "ccfbbfcf-8367-409c-beb6-254045d701fa",
   "metadata": {},
   "outputs": [
    {
     "data": {
      "text/plain": [
       "(15657, 20)"
      ]
     },
     "execution_count": 27,
     "metadata": {},
     "output_type": "execute_result"
    }
   ],
   "source": [
    "df.shape"
   ]
  },
  {
   "cell_type": "code",
   "execution_count": 28,
   "id": "813b3d09-3ab4-43a4-934b-afe95817e5be",
   "metadata": {},
   "outputs": [
    {
     "name": "stdout",
     "output_type": "stream",
     "text": [
      "<class 'pandas.core.frame.DataFrame'>\n",
      "RangeIndex: 15657 entries, 0 to 15656\n",
      "Data columns (total 20 columns):\n",
      " #   Column          Non-Null Count  Dtype  \n",
      "---  ------          --------------  -----  \n",
      " 0   Gender          15657 non-null  int64  \n",
      " 1   Major           15657 non-null  object \n",
      " 2   completed       15657 non-null  int64  \n",
      " 3   grantpct        15657 non-null  int64  \n",
      " 4   transfer        15657 non-null  int64  \n",
      " 5   gpa_final       15643 non-null  float64\n",
      " 6   gpa_first_term  15643 non-null  float64\n",
      " 7   gpa_first_year  15643 non-null  float64\n",
      " 8   cityapp         15568 non-null  object \n",
      " 9   statapp         14817 non-null  object \n",
      " 10  natnapp         1394 non-null   object \n",
      " 11  hscity          14776 non-null  object \n",
      " 12  hsstate         14159 non-null  object \n",
      " 13  hsnatn          1130 non-null   object \n",
      " 14  hsgpa           14876 non-null  object \n",
      " 15  minor           15657 non-null  int64  \n",
      " 16  maj2            15657 non-null  int64  \n",
      " 17  ethnicity       15657 non-null  object \n",
      " 18  act_composite   3763 non-null   float64\n",
      " 19  sat_total       11623 non-null  float64\n",
      "dtypes: float64(5), int64(6), object(9)\n",
      "memory usage: 2.4+ MB\n"
     ]
    }
   ],
   "source": [
    "df.info()"
   ]
  },
  {
   "cell_type": "code",
   "execution_count": 29,
   "id": "3d359477",
   "metadata": {},
   "outputs": [],
   "source": [
    "df.loc[df['Major']==0,'Major']=\"UND\"\n",
    "df.loc[df['Major']=='0000','Major']=\"UND\""
   ]
  },
  {
   "cell_type": "markdown",
   "id": "06669593",
   "metadata": {},
   "source": [
    "Now, instead of treating each city as its own, let's create a feature called popular city which flags whether their home when applied is popular or unpopular, since that might be meaningful in our context."
   ]
  },
  {
   "cell_type": "code",
   "execution_count": 30,
   "id": "d4026257",
   "metadata": {},
   "outputs": [],
   "source": [
    "popcities=df.cityapp.value_counts()[df.cityapp.value_counts().values>50].index.values"
   ]
  },
  {
   "cell_type": "code",
   "execution_count": 31,
   "id": "4144beae",
   "metadata": {},
   "outputs": [
    {
     "data": {
      "text/plain": [
       "array(['Teaneck', 'Brooklyn', 'Woodmere', 'Los Angeles', 'Great Neck',\n",
       "       'New York', 'Lawrence', 'West Hempstead', 'Flushing', 'Baltimore',\n",
       "       'Silver Spring', 'Chicago', 'Skokie', 'Monsey', 'Boca Raton',\n",
       "       'Englewood', 'West Orange', 'Bergenfield', 'Thornhill',\n",
       "       'Staten Island', 'Cedarhurst', 'Edison', 'Fair Lawn',\n",
       "       'Highland Park', 'Bronx', 'Toronto', 'New Rochelle', 'Hollywood',\n",
       "       'Montreal', 'Houston', 'Passaic', 'Miami Beach', 'Beachwood',\n",
       "       'Miami', 'Elizabeth', 'Suffern', 'Pittsburgh', 'Atlanta',\n",
       "       'Lincolnwood', 'Jamaica', 'Southfield', 'Valley Village',\n",
       "       'East Brunswick', 'Seattle', 'Spring Valley', 'Beverly Hills',\n",
       "       'North Miami Beach', 'Memphis', 'Columbus', 'Casablanca', 'Panama',\n",
       "       'Bala Cynwyd', 'Philadelphia', 'Sharon', 'Newton', 'Dallas',\n",
       "       'Oceanside', 'Brookline', 'Far Rockaway', 'Plainview', 'Denver',\n",
       "       'Scarsdale', 'Livingston'], dtype=object)"
      ]
     },
     "execution_count": 31,
     "metadata": {},
     "output_type": "execute_result"
    }
   ],
   "source": [
    "popcities"
   ]
  },
  {
   "cell_type": "code",
   "execution_count": 32,
   "id": "135484c6",
   "metadata": {},
   "outputs": [],
   "source": [
    "df['pop_city']=df['cityapp'].isin(popcities).astype(int)"
   ]
  },
  {
   "cell_type": "code",
   "execution_count": 33,
   "id": "85f2f55b",
   "metadata": {},
   "outputs": [
    {
     "data": {
      "text/plain": [
       "1    11542\n",
       "0     4115\n",
       "Name: pop_city, dtype: int64"
      ]
     },
     "execution_count": 33,
     "metadata": {},
     "output_type": "execute_result"
    }
   ],
   "source": [
    "df.pop_city.value_counts()"
   ]
  },
  {
   "cell_type": "markdown",
   "id": "e7c03900",
   "metadata": {},
   "source": [
    "So most people are from cities where at least 50 people have applied."
   ]
  },
  {
   "cell_type": "markdown",
   "id": "d4d1ef39",
   "metadata": {},
   "source": [
    "Let's see if gender is abnormal:"
   ]
  },
  {
   "cell_type": "code",
   "execution_count": 34,
   "id": "a6d7e0bc",
   "metadata": {},
   "outputs": [
    {
     "data": {
      "text/plain": [
       "1    8270\n",
       "2    7387\n",
       "Name: Gender, dtype: int64"
      ]
     },
     "execution_count": 34,
     "metadata": {},
     "output_type": "execute_result"
    }
   ],
   "source": [
    "df.Gender.value_counts()"
   ]
  },
  {
   "cell_type": "markdown",
   "id": "9764bd4d",
   "metadata": {},
   "source": [
    "It looks normal (not in the technical, statistics sense).  \n",
    "\n",
    "Having created a popular city field from the actual city field, we can drop city."
   ]
  },
  {
   "cell_type": "code",
   "execution_count": 35,
   "id": "bc46580d",
   "metadata": {},
   "outputs": [],
   "source": [
    "df=df.drop(columns='cityapp')"
   ]
  },
  {
   "cell_type": "markdown",
   "id": "4238f647",
   "metadata": {},
   "source": [
    "Let's see the story with international applicants:"
   ]
  },
  {
   "cell_type": "code",
   "execution_count": 36,
   "id": "39f268d9",
   "metadata": {
    "scrolled": true
   },
   "outputs": [
    {
     "data": {
      "text/plain": [
       "CANADA                        644\n",
       "ISRAEL                        175\n",
       "FRANCE                        119\n",
       "MOROCCO                        82\n",
       "PANAMA                         82\n",
       "SOUTH AFRICA                   24\n",
       "UNITED KINGDOM                 23\n",
       "BRAZIL                         22\n",
       "VENEZUELA                      20\n",
       "ARGENTINA                      16\n",
       "CHILE                          16\n",
       "BELGIUM                        16\n",
       "RUSSIAN FEDERATION             15\n",
       "MEXICO                         12\n",
       "AUSTRALIA                      12\n",
       "COLOMBIA                       12\n",
       "SWITZERLAND                    11\n",
       "ITALY                          10\n",
       "AUSTRIA                        10\n",
       "GERMANY                        10\n",
       "UKRAINE                         8\n",
       "BELARUS                         8\n",
       "ENGLAND                         6\n",
       "SPAIN                           5\n",
       "NETHERLANDS                     5\n",
       "POLAND                          4\n",
       "TURKEY                          3\n",
       "HUNGARY                         3\n",
       "HONG KONG                       3\n",
       "SWEDEN                          2\n",
       "THAILAND                        2\n",
       "GEORGIA                         2\n",
       "LITHUANIA                       1\n",
       "GUATEMALA                       1\n",
       "GUADELOUPE                      1\n",
       "PERU                            1\n",
       "SLOVAKIA (SLOVAK REPUBLIC)      1\n",
       "MYANMAR, BURMA                  1\n",
       "CHINA                           1\n",
       "EL SALVADOR                     1\n",
       "Other                           1\n",
       "BULGARIA                        1\n",
       "AZERBAIJAN                      1\n",
       "URUGUAY                         1\n",
       "Name: natnapp, dtype: int64"
      ]
     },
     "execution_count": 36,
     "metadata": {},
     "output_type": "execute_result"
    }
   ],
   "source": [
    "df.natnapp.value_counts()"
   ]
  },
  {
   "cell_type": "markdown",
   "id": "ebea53f2",
   "metadata": {},
   "source": [
    "About 1000 international applicants. All others are null, but really are USA. However, it looks like it would be better to bunch all international applicants into their own category- foreign, rather than split them into their individual country."
   ]
  },
  {
   "cell_type": "code",
   "execution_count": 37,
   "id": "dbe2d7a2",
   "metadata": {},
   "outputs": [],
   "source": [
    "df['foreign']=(df.natnapp.notnull()).astype(int)"
   ]
  },
  {
   "cell_type": "markdown",
   "id": "eae63f23",
   "metadata": {},
   "source": [
    "Looking at the HS GPA, it's clear that some are on a 100 point scale and some are way over, possibly signifying something else. There are a number of 333, which is an international score. So to clean it up, let's replace any HS gpa over 120 or missing gpa with the median gpa."
   ]
  },
  {
   "cell_type": "code",
   "execution_count": 38,
   "id": "2c5a6a54",
   "metadata": {},
   "outputs": [],
   "source": [
    "df['hsgpa']=pd.to_numeric(df.hsgpa, errors='coerce')"
   ]
  },
  {
   "cell_type": "code",
   "execution_count": 39,
   "id": "74d67983",
   "metadata": {},
   "outputs": [],
   "source": [
    "df.loc[(df['hsgpa'] > 120) | (pd.isnull(df['hsgpa'])),'hsgpa' ]=np.nan"
   ]
  },
  {
   "cell_type": "code",
   "execution_count": 40,
   "id": "21c65b46",
   "metadata": {},
   "outputs": [],
   "source": [
    "hsgpamedian=df.hsgpa.median()\n",
    "df['hsgpa']=df['hsgpa'].fillna(hsgpamedian)"
   ]
  },
  {
   "cell_type": "markdown",
   "id": "5054ce18",
   "metadata": {},
   "source": [
    "Now working on the problem of the SAT and ACT scales: they both measure the same thing but are on different scales. I could use the College Board's correspondence tables to map ACT to SAT or vice versa, but instead, we'll just rescale both of them onto a standard scale, then merge them into the same field."
   ]
  },
  {
   "cell_type": "code",
   "execution_count": 41,
   "id": "c16de7d9",
   "metadata": {},
   "outputs": [],
   "source": [
    "from sklearn.preprocessing import MinMaxScaler, StandardScaler\n",
    "st=MinMaxScaler()\n",
    "st2=MinMaxScaler()\n",
    "st3=MinMaxScaler()\n",
    "sat=np.reshape(df['sat_total'].values, (-1,1))\n",
    "sat_sc=st.fit_transform(sat)\n",
    "df['sat_total']=sat_sc"
   ]
  },
  {
   "cell_type": "code",
   "execution_count": 42,
   "id": "4d69c43c",
   "metadata": {},
   "outputs": [],
   "source": [
    "act=np.reshape(df['act_composite'].values, (-1,1))\n",
    "act_sc=st2.fit_transform(act)\n",
    "df['act_composite']=act_sc"
   ]
  },
  {
   "cell_type": "code",
   "execution_count": 43,
   "id": "5044cdd4",
   "metadata": {},
   "outputs": [],
   "source": [
    "hsg=np.reshape(df['hsgpa'].values,(-1,1))\n",
    "hsgpa_sc=st3.fit_transform(hsg)\n",
    "df['hsgpa']=hsgpa_sc"
   ]
  },
  {
   "cell_type": "code",
   "execution_count": 44,
   "id": "f9d1bccb",
   "metadata": {},
   "outputs": [],
   "source": [
    "df['sat_act']=np.where(df.act_composite.notnull(),df.act_composite , df.sat_total)"
   ]
  },
  {
   "cell_type": "markdown",
   "id": "bc65687d",
   "metadata": {},
   "source": [
    "Still a problem because of the missing sat/act values. So let's impute the mean. "
   ]
  },
  {
   "cell_type": "code",
   "execution_count": 45,
   "id": "7ad7da6d-ea13-4af8-81a5-e315a67cd329",
   "metadata": {},
   "outputs": [
    {
     "data": {
      "text/plain": [
       "count    14585.000000\n",
       "mean         0.608442\n",
       "std          0.164039\n",
       "min          0.000000\n",
       "25%          0.495050\n",
       "50%          0.603960\n",
       "75%          0.732673\n",
       "max          1.000000\n",
       "Name: sat_act, dtype: float64"
      ]
     },
     "execution_count": 45,
     "metadata": {},
     "output_type": "execute_result"
    }
   ],
   "source": [
    "df.sat_act.describe()"
   ]
  },
  {
   "cell_type": "code",
   "execution_count": null,
   "id": "f9da7dfd-647a-4c0c-a787-645ceaa498c2",
   "metadata": {},
   "outputs": [],
   "source": []
  },
  {
   "cell_type": "code",
   "execution_count": 46,
   "id": "eaacd46d",
   "metadata": {},
   "outputs": [],
   "source": [
    "satmean=df.sat_act.mean()\n",
    "df['sat_act']=df['sat_act'].fillna(satmean)"
   ]
  },
  {
   "cell_type": "markdown",
   "id": "38f0a88a",
   "metadata": {},
   "source": [
    "Let's see what we have so far:"
   ]
  },
  {
   "cell_type": "code",
   "execution_count": 47,
   "id": "6dc7d49f",
   "metadata": {},
   "outputs": [
    {
     "data": {
      "text/plain": [
       "Index(['Gender', 'Major', 'completed', 'grantpct', 'transfer', 'gpa_final',\n",
       "       'gpa_first_term', 'gpa_first_year', 'statapp', 'natnapp', 'hscity',\n",
       "       'hsstate', 'hsnatn', 'hsgpa', 'minor', 'maj2', 'ethnicity',\n",
       "       'act_composite', 'sat_total', 'pop_city', 'foreign', 'sat_act'],\n",
       "      dtype='object')"
      ]
     },
     "execution_count": 47,
     "metadata": {},
     "output_type": "execute_result"
    }
   ],
   "source": [
    "df.columns"
   ]
  },
  {
   "cell_type": "markdown",
   "id": "ac0e52f1-6d1f-4ef7-bd13-4c1959ff4487",
   "metadata": {},
   "source": [
    "Let's put the foreign country into the state field since it essentially does the same job."
   ]
  },
  {
   "cell_type": "code",
   "execution_count": 48,
   "id": "9604b2be-de9f-47cf-943d-aa3e0acfa65c",
   "metadata": {},
   "outputs": [],
   "source": [
    "df['statapp']=np.where(df.natnapp.notnull(),df.natnapp , df.statapp)"
   ]
  },
  {
   "cell_type": "code",
   "execution_count": 49,
   "id": "642fda38-6b0a-4737-bcc6-01f25e869298",
   "metadata": {},
   "outputs": [
    {
     "data": {
      "text/plain": [
       "NY            5477\n",
       "NJ            3158\n",
       "CA            1017\n",
       "FL             885\n",
       "IL             689\n",
       "              ... \n",
       "MT               1\n",
       "BULGARIA         1\n",
       "AR               1\n",
       "AZERBAIJAN       1\n",
       "URUGUAY          1\n",
       "Name: statapp, Length: 94, dtype: int64"
      ]
     },
     "execution_count": 49,
     "metadata": {},
     "output_type": "execute_result"
    }
   ],
   "source": [
    "df.statapp.value_counts()"
   ]
  },
  {
   "cell_type": "code",
   "execution_count": 50,
   "id": "65086a19-7274-4156-8bf1-da34b4573d4f",
   "metadata": {},
   "outputs": [
    {
     "data": {
      "text/plain": [
       "array(['NY', 'NJ', 'CA', 'FL', 'IL', 'CANADA', 'MD', 'PA', 'OH', 'MA',\n",
       "       'TX', 'ISRAEL', 'MI', 'GA', 'CT', 'FRANCE', 'MO'], dtype=object)"
      ]
     },
     "execution_count": 50,
     "metadata": {},
     "output_type": "execute_result"
    }
   ],
   "source": [
    "popstates=df.statapp.value_counts()[df.statapp.value_counts().values>100].index.values\n",
    "popstates"
   ]
  },
  {
   "cell_type": "code",
   "execution_count": 51,
   "id": "1206e91a-47dd-431c-94b6-f17f8b24b470",
   "metadata": {},
   "outputs": [],
   "source": [
    "df.loc[(~df['statapp'].isin(popstates)) ,'statapp' ]='MISC'"
   ]
  },
  {
   "cell_type": "code",
   "execution_count": 52,
   "id": "50047867-7129-40fb-a3c7-852b974cbf74",
   "metadata": {},
   "outputs": [
    {
     "data": {
      "text/plain": [
       "NY        5477\n",
       "NJ        3158\n",
       "MISC      1103\n",
       "CA        1017\n",
       "FL         885\n",
       "IL         689\n",
       "CANADA     644\n",
       "MD         598\n",
       "PA         383\n",
       "OH         370\n",
       "MA         308\n",
       "TX         221\n",
       "ISRAEL     175\n",
       "MI         157\n",
       "GA         123\n",
       "CT         120\n",
       "FRANCE     119\n",
       "MO         110\n",
       "Name: statapp, dtype: int64"
      ]
     },
     "execution_count": 52,
     "metadata": {},
     "output_type": "execute_result"
    }
   ],
   "source": [
    "df.statapp.value_counts()"
   ]
  },
  {
   "cell_type": "markdown",
   "id": "d824c920-c3e1-448f-92c5-791a4e985d30",
   "metadata": {},
   "source": [
    "Let's do the same for the HS location"
   ]
  },
  {
   "cell_type": "code",
   "execution_count": 53,
   "id": "291dced6-621f-4487-95bc-6ee87bcffee3",
   "metadata": {},
   "outputs": [],
   "source": [
    "pophscities=df.hscity.value_counts()[df.hscity.value_counts().values>50].index.values\n",
    "df['pophscity']=df['hscity'].isin(pophscities).astype(int)\n",
    "df['hsstate']=np.where(df.hsnatn.notnull(), df.hsnatn, df.hsstate)\n",
    "pophsstates=df.hsstate.value_counts()[df.hsstate.value_counts().values>100].index.values\n",
    "df.loc[(~df['hsstate'].isin(pophsstates)) ,'hsstate' ]='MISC'"
   ]
  },
  {
   "cell_type": "code",
   "execution_count": 54,
   "id": "fbe95d99-9983-4ed0-9c2b-c111de7fbb2c",
   "metadata": {},
   "outputs": [],
   "source": [
    "df=df.drop(columns=['natnapp','hscity','hsnatn','act_composite','sat_total'])"
   ]
  },
  {
   "cell_type": "markdown",
   "id": "b3894837",
   "metadata": {},
   "source": [
    "Let's look at ethnicity:"
   ]
  },
  {
   "cell_type": "code",
   "execution_count": 55,
   "id": "bd734994",
   "metadata": {},
   "outputs": [
    {
     "data": {
      "text/plain": [
       "8. White                                         13909\n",
       "1. Non Resident Alien                             1251\n",
       "2. Unknown                                         212\n",
       "3. Hispanic                                        176\n",
       "9. Two or more races                                80\n",
       "4. American Indian or Alaskan Native                12\n",
       "5. Asian                                             9\n",
       "6. Black or African American                         7\n",
       "7. Native Hawaiian and Other Pacific Islander        1\n",
       "Name: ethnicity, dtype: int64"
      ]
     },
     "execution_count": 55,
     "metadata": {},
     "output_type": "execute_result"
    }
   ],
   "source": [
    "df.ethnicity.value_counts()"
   ]
  },
  {
   "cell_type": "markdown",
   "id": "bce1c046",
   "metadata": {},
   "source": [
    "Maybe that's ok even though it is a very imbalanced distribution."
   ]
  },
  {
   "cell_type": "code",
   "execution_count": 56,
   "id": "24ccdb16",
   "metadata": {},
   "outputs": [
    {
     "data": {
      "text/plain": [
       "1    12347\n",
       "0     3310\n",
       "Name: completed, dtype: int64"
      ]
     },
     "execution_count": 56,
     "metadata": {},
     "output_type": "execute_result"
    }
   ],
   "source": [
    "# Baseline graduation / dropout rate\n",
    "df.completed.value_counts()"
   ]
  },
  {
   "cell_type": "markdown",
   "id": "733393ee",
   "metadata": {},
   "source": [
    "So Baseline dropout rate is 20%"
   ]
  },
  {
   "cell_type": "markdown",
   "id": "c3bee539",
   "metadata": {},
   "source": [
    "Some visualizations:"
   ]
  },
  {
   "cell_type": "markdown",
   "id": "9adf8d57",
   "metadata": {},
   "source": [
    "Let's see how the GPA values depend on the major. We should choose only a subset of the majors, so since we pointed out above that there are about 15 significant majors, let's only look at those:"
   ]
  },
  {
   "cell_type": "code",
   "execution_count": 57,
   "id": "6268431c",
   "metadata": {},
   "outputs": [
    {
     "data": {
      "text/plain": [
       "<Axes: >"
      ]
     },
     "execution_count": 57,
     "metadata": {},
     "output_type": "execute_result"
    },
    {
     "data": {
      "image/png": "[encoded data removed]",
      "text/plain": [
       "<Figure size 640x480 with 1 Axes>"
      ]
     },
     "metadata": {},
     "output_type": "display_data"
    }
   ],
   "source": [
    "# Get a list of popular majors\n",
    "popmajors=df.Major.value_counts()[:15].index\n",
    "# We make a table of GPA with each major getting its own column\n",
    "gpamatrix=df.pivot(columns='Major',values='gpa_first_term')\n",
    "# Let's make a boxplot of the GPA for each major\n",
    "gpamatrix[popmajors].plot(kind='box', rot=90)"
   ]
  },
  {
   "cell_type": "markdown",
   "id": "1f7e5800",
   "metadata": {},
   "source": [
    "So, some majors seem to be from students with higher GPA and some with lower. But mostly there's a lot of overlap."
   ]
  },
  {
   "cell_type": "markdown",
   "id": "02e2979a",
   "metadata": {},
   "source": [
    "Having created the SAT / ACT feature, we have two continuous variables: GPA and SAT_ACT. Likely they are correlated. Let's see:"
   ]
  },
  {
   "cell_type": "code",
   "execution_count": 58,
   "id": "3d785c69",
   "metadata": {},
   "outputs": [
    {
     "data": {
      "image/png": "[encoded data removed]",
      "text/plain": [
       "<Figure size 640x480 with 1 Axes>"
      ]
     },
     "metadata": {},
     "output_type": "display_data"
    }
   ],
   "source": [
    "gpamatrix2=df.pivot(columns='completed',values='gpa_first_year')\n",
    "# Let's make a boxplot of the first year GPA, by completed [0,1] \n",
    "plot1=gpamatrix2.plot(kind='box', rot=90)\n",
    "plot1.set_title('First Year GPA')\n",
    "plt.show()"
   ]
  },
  {
   "cell_type": "code",
   "execution_count": 59,
   "id": "4154d70f",
   "metadata": {},
   "outputs": [
    {
     "data": {
      "text/plain": [
       "<Axes: xlabel='sat_act', ylabel='gpa_first_term'>"
      ]
     },
     "execution_count": 59,
     "metadata": {},
     "output_type": "execute_result"
    },
    {
     "data": {
      "image/png": "[encoded data removed]",
      "text/plain": [
       "<Figure size 640x480 with 1 Axes>"
      ]
     },
     "metadata": {},
     "output_type": "display_data"
    }
   ],
   "source": [
    "# No significant data for GPA below .5\n",
    "df[df.gpa_first_term>.5].plot.scatter(x='sat_act', y='gpa_first_term')"
   ]
  },
  {
   "cell_type": "markdown",
   "id": "f87f768e",
   "metadata": {},
   "source": [
    "Very hard to discern anything in the blob. Let's try a hex bin plot:"
   ]
  },
  {
   "cell_type": "code",
   "execution_count": 61,
   "id": "77e42fc5",
   "metadata": {},
   "outputs": [
    {
     "data": {
      "image/png": "[encoded data removed]",
      "text/plain": [
       "<Figure size 640x480 with 2 Axes>"
      ]
     },
     "metadata": {},
     "output_type": "display_data"
    }
   ],
   "source": [
    "# focus on the main range of values, and choose a grid size by experimenting:\n",
    "df[(df.gpa_first_term>2.5) & (df.sat_act >.3)].plot.hexbin(x='sat_act', y='gpa_first_term', gridsize=35)\n",
    "plt.show()"
   ]
  },
  {
   "cell_type": "markdown",
   "id": "271bdf97",
   "metadata": {},
   "source": [
    "Maybe that looks like a correlation. Interestingly, there is a vertical lineoid intensity at sat_act of about .6 Presumably, that's where the artificial scores were all populated with the mean. "
   ]
  },
  {
   "cell_type": "markdown",
   "id": "b61114ed",
   "metadata": {},
   "source": [
    "After getting the data cleaned up enough to work with, the biggest issue now is that all those string fields are useless! So we need to convert the string fields like major and ethnicity state to numbers.  \n",
    "There are at least two entirely different ways to try this: By converting them to dummy variables; or to encode them to numerical categoricals. Let's try both, and maybe one will be clearly superior."
   ]
  },
  {
   "cell_type": "markdown",
   "id": "ea5c2779",
   "metadata": {},
   "source": [
    "Let's look for correlations:"
   ]
  },
  {
   "cell_type": "code",
   "execution_count": 62,
   "id": "dcf07efc-36f5-49c0-9e2d-d1919012f507",
   "metadata": {},
   "outputs": [
    {
     "data": {
      "text/html": [
       "<div>\n",
       "<style scoped>\n",
       "    .dataframe tbody tr th:only-of-type {\n",
       "        vertical-align: middle;\n",
       "    }\n",
       "\n",
       "    .dataframe tbody tr th {\n",
       "        vertical-align: top;\n",
       "    }\n",
       "\n",
       "    .dataframe thead th {\n",
       "        text-align: right;\n",
       "    }\n",
       "</style>\n",
       "<table border=\"1\" class=\"dataframe\">\n",
       "  <thead>\n",
       "    <tr style=\"text-align: right;\">\n",
       "      <th></th>\n",
       "      <th>Gender</th>\n",
       "      <th>completed</th>\n",
       "      <th>grantpct</th>\n",
       "      <th>transfer</th>\n",
       "      <th>gpa_final</th>\n",
       "      <th>gpa_first_term</th>\n",
       "      <th>gpa_first_year</th>\n",
       "      <th>hsgpa</th>\n",
       "      <th>minor</th>\n",
       "      <th>maj2</th>\n",
       "      <th>pop_city</th>\n",
       "      <th>foreign</th>\n",
       "      <th>sat_act</th>\n",
       "      <th>pophscity</th>\n",
       "    </tr>\n",
       "  </thead>\n",
       "  <tbody>\n",
       "    <tr>\n",
       "      <th>Gender</th>\n",
       "      <td>1.000000</td>\n",
       "      <td>0.108313</td>\n",
       "      <td>-0.017123</td>\n",
       "      <td>0.061853</td>\n",
       "      <td>0.156361</td>\n",
       "      <td>0.080630</td>\n",
       "      <td>0.102424</td>\n",
       "      <td>0.164014</td>\n",
       "      <td>0.059445</td>\n",
       "      <td>0.033591</td>\n",
       "      <td>0.001879</td>\n",
       "      <td>-0.038497</td>\n",
       "      <td>-0.130756</td>\n",
       "      <td>0.003641</td>\n",
       "    </tr>\n",
       "    <tr>\n",
       "      <th>completed</th>\n",
       "      <td>0.108313</td>\n",
       "      <td>1.000000</td>\n",
       "      <td>0.074539</td>\n",
       "      <td>-0.008660</td>\n",
       "      <td>0.434558</td>\n",
       "      <td>0.321172</td>\n",
       "      <td>0.358804</td>\n",
       "      <td>0.178067</td>\n",
       "      <td>0.017505</td>\n",
       "      <td>0.006567</td>\n",
       "      <td>0.059014</td>\n",
       "      <td>-0.021036</td>\n",
       "      <td>0.086589</td>\n",
       "      <td>0.098091</td>\n",
       "    </tr>\n",
       "    <tr>\n",
       "      <th>grantpct</th>\n",
       "      <td>-0.017123</td>\n",
       "      <td>0.074539</td>\n",
       "      <td>1.000000</td>\n",
       "      <td>-0.043106</td>\n",
       "      <td>0.110399</td>\n",
       "      <td>0.090858</td>\n",
       "      <td>0.096635</td>\n",
       "      <td>0.162354</td>\n",
       "      <td>-0.013958</td>\n",
       "      <td>0.001628</td>\n",
       "      <td>-0.079686</td>\n",
       "      <td>0.133244</td>\n",
       "      <td>0.191957</td>\n",
       "      <td>-0.063073</td>\n",
       "    </tr>\n",
       "    <tr>\n",
       "      <th>transfer</th>\n",
       "      <td>0.061853</td>\n",
       "      <td>-0.008660</td>\n",
       "      <td>-0.043106</td>\n",
       "      <td>1.000000</td>\n",
       "      <td>-0.050893</td>\n",
       "      <td>-0.045965</td>\n",
       "      <td>-0.047987</td>\n",
       "      <td>-0.058668</td>\n",
       "      <td>0.031177</td>\n",
       "      <td>0.003919</td>\n",
       "      <td>-0.060491</td>\n",
       "      <td>0.084784</td>\n",
       "      <td>-0.053527</td>\n",
       "      <td>-0.105744</td>\n",
       "    </tr>\n",
       "    <tr>\n",
       "      <th>gpa_final</th>\n",
       "      <td>0.156361</td>\n",
       "      <td>0.434558</td>\n",
       "      <td>0.110399</td>\n",
       "      <td>-0.050893</td>\n",
       "      <td>1.000000</td>\n",
       "      <td>0.832004</td>\n",
       "      <td>0.898541</td>\n",
       "      <td>0.434520</td>\n",
       "      <td>0.017487</td>\n",
       "      <td>0.034672</td>\n",
       "      <td>0.084508</td>\n",
       "      <td>-0.050845</td>\n",
       "      <td>0.345546</td>\n",
       "      <td>0.113709</td>\n",
       "    </tr>\n",
       "    <tr>\n",
       "      <th>gpa_first_term</th>\n",
       "      <td>0.080630</td>\n",
       "      <td>0.321172</td>\n",
       "      <td>0.090858</td>\n",
       "      <td>-0.045965</td>\n",
       "      <td>0.832004</td>\n",
       "      <td>1.000000</td>\n",
       "      <td>0.936382</td>\n",
       "      <td>0.392567</td>\n",
       "      <td>0.021693</td>\n",
       "      <td>0.035644</td>\n",
       "      <td>0.077038</td>\n",
       "      <td>-0.035541</td>\n",
       "      <td>0.357783</td>\n",
       "      <td>0.101525</td>\n",
       "    </tr>\n",
       "    <tr>\n",
       "      <th>gpa_first_year</th>\n",
       "      <td>0.102424</td>\n",
       "      <td>0.358804</td>\n",
       "      <td>0.096635</td>\n",
       "      <td>-0.047987</td>\n",
       "      <td>0.898541</td>\n",
       "      <td>0.936382</td>\n",
       "      <td>1.000000</td>\n",
       "      <td>0.407915</td>\n",
       "      <td>0.020424</td>\n",
       "      <td>0.037256</td>\n",
       "      <td>0.081880</td>\n",
       "      <td>-0.041877</td>\n",
       "      <td>0.358222</td>\n",
       "      <td>0.110558</td>\n",
       "    </tr>\n",
       "    <tr>\n",
       "      <th>hsgpa</th>\n",
       "      <td>0.164014</td>\n",
       "      <td>0.178067</td>\n",
       "      <td>0.162354</td>\n",
       "      <td>-0.058668</td>\n",
       "      <td>0.434520</td>\n",
       "      <td>0.392567</td>\n",
       "      <td>0.407915</td>\n",
       "      <td>1.000000</td>\n",
       "      <td>0.014487</td>\n",
       "      <td>0.042003</td>\n",
       "      <td>0.054748</td>\n",
       "      <td>-0.153083</td>\n",
       "      <td>0.428983</td>\n",
       "      <td>0.013141</td>\n",
       "    </tr>\n",
       "    <tr>\n",
       "      <th>minor</th>\n",
       "      <td>0.059445</td>\n",
       "      <td>0.017505</td>\n",
       "      <td>-0.013958</td>\n",
       "      <td>0.031177</td>\n",
       "      <td>0.017487</td>\n",
       "      <td>0.021693</td>\n",
       "      <td>0.020424</td>\n",
       "      <td>0.014487</td>\n",
       "      <td>1.000000</td>\n",
       "      <td>0.033723</td>\n",
       "      <td>-0.021935</td>\n",
       "      <td>0.005708</td>\n",
       "      <td>-0.003932</td>\n",
       "      <td>-0.021827</td>\n",
       "    </tr>\n",
       "    <tr>\n",
       "      <th>maj2</th>\n",
       "      <td>0.033591</td>\n",
       "      <td>0.006567</td>\n",
       "      <td>0.001628</td>\n",
       "      <td>0.003919</td>\n",
       "      <td>0.034672</td>\n",
       "      <td>0.035644</td>\n",
       "      <td>0.037256</td>\n",
       "      <td>0.042003</td>\n",
       "      <td>0.033723</td>\n",
       "      <td>1.000000</td>\n",
       "      <td>0.016601</td>\n",
       "      <td>0.001278</td>\n",
       "      <td>0.037331</td>\n",
       "      <td>-0.007118</td>\n",
       "    </tr>\n",
       "    <tr>\n",
       "      <th>pop_city</th>\n",
       "      <td>0.001879</td>\n",
       "      <td>0.059014</td>\n",
       "      <td>-0.079686</td>\n",
       "      <td>-0.060491</td>\n",
       "      <td>0.084508</td>\n",
       "      <td>0.077038</td>\n",
       "      <td>0.081880</td>\n",
       "      <td>0.054748</td>\n",
       "      <td>-0.021935</td>\n",
       "      <td>0.016601</td>\n",
       "      <td>1.000000</td>\n",
       "      <td>-0.225010</td>\n",
       "      <td>0.069570</td>\n",
       "      <td>0.313119</td>\n",
       "    </tr>\n",
       "    <tr>\n",
       "      <th>foreign</th>\n",
       "      <td>-0.038497</td>\n",
       "      <td>-0.021036</td>\n",
       "      <td>0.133244</td>\n",
       "      <td>0.084784</td>\n",
       "      <td>-0.050845</td>\n",
       "      <td>-0.035541</td>\n",
       "      <td>-0.041877</td>\n",
       "      <td>-0.153083</td>\n",
       "      <td>0.005708</td>\n",
       "      <td>0.001278</td>\n",
       "      <td>-0.225010</td>\n",
       "      <td>1.000000</td>\n",
       "      <td>-0.081264</td>\n",
       "      <td>-0.197950</td>\n",
       "    </tr>\n",
       "    <tr>\n",
       "      <th>sat_act</th>\n",
       "      <td>-0.130756</td>\n",
       "      <td>0.086589</td>\n",
       "      <td>0.191957</td>\n",
       "      <td>-0.053527</td>\n",
       "      <td>0.345546</td>\n",
       "      <td>0.357783</td>\n",
       "      <td>0.358222</td>\n",
       "      <td>0.428983</td>\n",
       "      <td>-0.003932</td>\n",
       "      <td>0.037331</td>\n",
       "      <td>0.069570</td>\n",
       "      <td>-0.081264</td>\n",
       "      <td>1.000000</td>\n",
       "      <td>0.052847</td>\n",
       "    </tr>\n",
       "    <tr>\n",
       "      <th>pophscity</th>\n",
       "      <td>0.003641</td>\n",
       "      <td>0.098091</td>\n",
       "      <td>-0.063073</td>\n",
       "      <td>-0.105744</td>\n",
       "      <td>0.113709</td>\n",
       "      <td>0.101525</td>\n",
       "      <td>0.110558</td>\n",
       "      <td>0.013141</td>\n",
       "      <td>-0.021827</td>\n",
       "      <td>-0.007118</td>\n",
       "      <td>0.313119</td>\n",
       "      <td>-0.197950</td>\n",
       "      <td>0.052847</td>\n",
       "      <td>1.000000</td>\n",
       "    </tr>\n",
       "  </tbody>\n",
       "</table>\n",
       "</div>"
      ],
      "text/plain": [
       "                  Gender  completed  grantpct  transfer  gpa_final  \\\n",
       "Gender          1.000000   0.108313 -0.017123  0.061853   0.156361   \n",
       "completed       0.108313   1.000000  0.074539 -0.008660   0.434558   \n",
       "grantpct       -0.017123   0.074539  1.000000 -0.043106   0.110399   \n",
       "transfer        0.061853  -0.008660 -0.043106  1.000000  -0.050893   \n",
       "gpa_final       0.156361   0.434558  0.110399 -0.050893   1.000000   \n",
       "gpa_first_term  0.080630   0.321172  0.090858 -0.045965   0.832004   \n",
       "gpa_first_year  0.102424   0.358804  0.096635 -0.047987   0.898541   \n",
       "hsgpa           0.164014   0.178067  0.162354 -0.058668   0.434520   \n",
       "minor           0.059445   0.017505 -0.013958  0.031177   0.017487   \n",
       "maj2            0.033591   0.006567  0.001628  0.003919   0.034672   \n",
       "pop_city        0.001879   0.059014 -0.079686 -0.060491   0.084508   \n",
       "foreign        -0.038497  -0.021036  0.133244  0.084784  -0.050845   \n",
       "sat_act        -0.130756   0.086589  0.191957 -0.053527   0.345546   \n",
       "pophscity       0.003641   0.098091 -0.063073 -0.105744   0.113709   \n",
       "\n",
       "                gpa_first_term  gpa_first_year     hsgpa     minor      maj2  \\\n",
       "Gender                0.080630        0.102424  0.164014  0.059445  0.033591   \n",
       "completed             0.321172        0.358804  0.178067  0.017505  0.006567   \n",
       "grantpct              0.090858        0.096635  0.162354 -0.013958  0.001628   \n",
       "transfer             -0.045965       -0.047987 -0.058668  0.031177  0.003919   \n",
       "gpa_final             0.832004        0.898541  0.434520  0.017487  0.034672   \n",
       "gpa_first_term        1.000000        0.936382  0.392567  0.021693  0.035644   \n",
       "gpa_first_year        0.936382        1.000000  0.407915  0.020424  0.037256   \n",
       "hsgpa                 0.392567        0.407915  1.000000  0.014487  0.042003   \n",
       "minor                 0.021693        0.020424  0.014487  1.000000  0.033723   \n",
       "maj2                  0.035644        0.037256  0.042003  0.033723  1.000000   \n",
       "pop_city              0.077038        0.081880  0.054748 -0.021935  0.016601   \n",
       "foreign              -0.035541       -0.041877 -0.153083  0.005708  0.001278   \n",
       "sat_act               0.357783        0.358222  0.428983 -0.003932  0.037331   \n",
       "pophscity             0.101525        0.110558  0.013141 -0.021827 -0.007118   \n",
       "\n",
       "                pop_city   foreign   sat_act  pophscity  \n",
       "Gender          0.001879 -0.038497 -0.130756   0.003641  \n",
       "completed       0.059014 -0.021036  0.086589   0.098091  \n",
       "grantpct       -0.079686  0.133244  0.191957  -0.063073  \n",
       "transfer       -0.060491  0.084784 -0.053527  -0.105744  \n",
       "gpa_final       0.084508 -0.050845  0.345546   0.113709  \n",
       "gpa_first_term  0.077038 -0.035541  0.357783   0.101525  \n",
       "gpa_first_year  0.081880 -0.041877  0.358222   0.110558  \n",
       "hsgpa           0.054748 -0.153083  0.428983   0.013141  \n",
       "minor          -0.021935  0.005708 -0.003932  -0.021827  \n",
       "maj2            0.016601  0.001278  0.037331  -0.007118  \n",
       "pop_city        1.000000 -0.225010  0.069570   0.313119  \n",
       "foreign        -0.225010  1.000000 -0.081264  -0.197950  \n",
       "sat_act         0.069570 -0.081264  1.000000   0.052847  \n",
       "pophscity       0.313119 -0.197950  0.052847   1.000000  "
      ]
     },
     "execution_count": 62,
     "metadata": {},
     "output_type": "execute_result"
    }
   ],
   "source": [
    "df.corr(numeric_only=True)"
   ]
  },
  {
   "cell_type": "markdown",
   "id": "5d291bd4-4c53-4896-8aad-7861feea1d11",
   "metadata": {},
   "source": [
    "Now we need to examine the GPA values:"
   ]
  },
  {
   "cell_type": "code",
   "execution_count": 63,
   "id": "26ad2cff-51ed-47aa-b65c-f0c414a543ee",
   "metadata": {},
   "outputs": [
    {
     "data": {
      "text/plain": [
       "14"
      ]
     },
     "execution_count": 63,
     "metadata": {},
     "output_type": "execute_result"
    }
   ],
   "source": [
    "df.gpa_final.isnull().sum()"
   ]
  },
  {
   "cell_type": "code",
   "execution_count": 64,
   "id": "e2cb1685-aaf4-4f9e-a96c-a9cdec136419",
   "metadata": {},
   "outputs": [],
   "source": [
    "gpaftmean=df.gpa_first_term.mean()\n",
    "df['gpa_first_term']=df['gpa_first_term'].fillna(gpaftmean)\n",
    "gpafymean=df.gpa_first_year.mean()\n",
    "df['gpa_first_year']=df['gpa_first_year'].fillna(gpafymean)\n"
   ]
  },
  {
   "cell_type": "code",
   "execution_count": 65,
   "id": "3409bb15-04cb-4caf-9544-60227bb18f1b",
   "metadata": {},
   "outputs": [],
   "source": [
    "ssc=MinMaxScaler()\n",
    "gft=np.reshape(df['gpa_first_term'].values, (-1,1))\n",
    "gfy=np.reshape(df['gpa_first_year'].values, (-1,1))\n",
    "gpaftsc=ssc.fit_transform(gft)\n",
    "gpafysc=ssc.fit_transform(gfy)\n",
    "df['gpa_first_term']=gpaftsc\n",
    "df['gpa_first_year']=gpafysc"
   ]
  },
  {
   "cell_type": "code",
   "execution_count": 66,
   "id": "4c768bfd-586b-426c-a23e-878082dcb8c8",
   "metadata": {},
   "outputs": [
    {
     "data": {
      "text/plain": [
       "count    15657.000000\n",
       "mean         0.866336\n",
       "std          0.133139\n",
       "min          0.000000\n",
       "25%          0.808333\n",
       "50%          0.900000\n",
       "75%          0.964286\n",
       "max          1.000000\n",
       "Name: gpa_first_term, dtype: float64"
      ]
     },
     "execution_count": 66,
     "metadata": {},
     "output_type": "execute_result"
    }
   ],
   "source": [
    "df['gpa_first_term'].describe()"
   ]
  },
  {
   "cell_type": "code",
   "execution_count": 67,
   "id": "7cd6fa4d-1360-4f72-bea6-15c04185dcfb",
   "metadata": {},
   "outputs": [
    {
     "name": "stdout",
     "output_type": "stream",
     "text": [
      "<class 'pandas.core.frame.DataFrame'>\n",
      "RangeIndex: 15657 entries, 0 to 15656\n",
      "Data columns (total 18 columns):\n",
      " #   Column          Non-Null Count  Dtype  \n",
      "---  ------          --------------  -----  \n",
      " 0   Gender          15657 non-null  int64  \n",
      " 1   Major           15657 non-null  object \n",
      " 2   completed       15657 non-null  int64  \n",
      " 3   grantpct        15657 non-null  int64  \n",
      " 4   transfer        15657 non-null  int64  \n",
      " 5   gpa_final       15643 non-null  float64\n",
      " 6   gpa_first_term  15657 non-null  float64\n",
      " 7   gpa_first_year  15657 non-null  float64\n",
      " 8   statapp         15657 non-null  object \n",
      " 9   hsstate         15657 non-null  object \n",
      " 10  hsgpa           15657 non-null  float64\n",
      " 11  minor           15657 non-null  int64  \n",
      " 12  maj2            15657 non-null  int64  \n",
      " 13  ethnicity       15657 non-null  object \n",
      " 14  pop_city        15657 non-null  int32  \n",
      " 15  foreign         15657 non-null  int32  \n",
      " 16  sat_act         15657 non-null  float64\n",
      " 17  pophscity       15657 non-null  int32  \n",
      "dtypes: float64(5), int32(3), int64(6), object(4)\n",
      "memory usage: 2.0+ MB\n"
     ]
    }
   ],
   "source": [
    "df.info()"
   ]
  },
  {
   "cell_type": "code",
   "execution_count": 68,
   "id": "5ac13d9c-08d2-484a-91b6-05e0d32de715",
   "metadata": {},
   "outputs": [
    {
     "data": {
      "text/plain": [
       "count    15657.000000\n",
       "mean        45.092994\n",
       "std         34.872659\n",
       "min          0.000000\n",
       "25%          5.000000\n",
       "50%         46.000000\n",
       "75%         75.000000\n",
       "max        137.000000\n",
       "Name: grantpct, dtype: float64"
      ]
     },
     "execution_count": 68,
     "metadata": {},
     "output_type": "execute_result"
    }
   ],
   "source": [
    "df.grantpct.describe()"
   ]
  },
  {
   "cell_type": "code",
   "execution_count": 69,
   "id": "cf7c5bc7-983d-454d-aed2-cb98c1a74537",
   "metadata": {},
   "outputs": [],
   "source": [
    "grnt=MinMaxScaler()\n",
    "grntpct=np.reshape(df['grantpct'].values, (-1,1))\n",
    "grntsc=ssc.fit_transform(grntpct)\n",
    "df['grantpct']=grntsc\n"
   ]
  },
  {
   "cell_type": "code",
   "execution_count": 70,
   "id": "55d1f744-b2b2-4ced-98f3-b577548df4ec",
   "metadata": {},
   "outputs": [],
   "source": [
    "df=df.drop(columns=['gpa_final','gpa_first_term'])"
   ]
  },
  {
   "cell_type": "markdown",
   "id": "b8765985",
   "metadata": {},
   "source": [
    "Why drop the final GPA? Because after running this the first time, it yielded 100% accuracy- so clearly something in the target variable was present in the feature set! Of course, since the target variable is graduate- 1 or 0, then including the graduated GPA implies graduate=1! For the analysis, we need to exclude any information not known at the beginning of their schooling. Anyway we don't want to include info not available at the end of the first year."
   ]
  },
  {
   "cell_type": "code",
   "execution_count": 50,
   "id": "efa7438a-3e3f-4ec6-bcb2-1f3c37858fc7",
   "metadata": {},
   "outputs": [
    {
     "data": {
      "text/plain": [
       "array(['UND', 'BUS', 'BIO', 'PSY', 'ACC', 'SHA', 'ENG', 'POL', 'EDU',\n",
       "       'PRE', 'COM', 'MAT', 'JST', 'HIS', 'ECO', 'SPAU', 'CHE', 'MAN',\n",
       "       'PHY', 'PHI', 'SOC', 'JED', 'BUND', 'BC', 'MUS', 'SCW', 'PRH',\n",
       "       'JUD', 'MED', 'ART', 'LAW', 'BIOL', 'PSC', 'NONE', 'BFIN', 'SCI',\n",
       "       'SOWK', 'ENGI', 'PHT', 'CLA', 'SPE', 'SPED', 'MEDS', 'BPHM',\n",
       "       'STAT', 'OCCT', 'RAB', 'JRN', 'ELED', 'BIB', 'JHI', 'LING', 'SPP'],\n",
       "      dtype=object)"
      ]
     },
     "execution_count": 50,
     "metadata": {},
     "output_type": "execute_result"
    }
   ],
   "source": [
    "df.Major.value_counts().index.values"
   ]
  },
  {
   "cell_type": "markdown",
   "id": "13ece70a",
   "metadata": {},
   "source": [
    "Too many majors. Consolidate!"
   ]
  },
  {
   "cell_type": "code",
   "execution_count": 71,
   "id": "702236a2",
   "metadata": {},
   "outputs": [],
   "source": [
    "popmajor=df.Major.value_counts()[df.Major.value_counts().values>100].index.values\n",
    "df.loc[(~df['Major'].isin(popmajor)) ,'Major' ]='MISC'"
   ]
  },
  {
   "cell_type": "code",
   "execution_count": 72,
   "id": "67c8db45",
   "metadata": {},
   "outputs": [
    {
     "data": {
      "text/plain": [
       "array(['UND', 'BUS', 'BIO', 'PSY', 'ACC', 'MISC', 'SHA', 'ENG', 'POL',\n",
       "       'EDU', 'PRE', 'COM', 'MAT', 'JST', 'HIS', 'ECO', 'SPAU', 'CHE',\n",
       "       'MAN'], dtype=object)"
      ]
     },
     "execution_count": 72,
     "metadata": {},
     "output_type": "execute_result"
    }
   ],
   "source": [
    "df.Major.value_counts().index.values"
   ]
  },
  {
   "cell_type": "markdown",
   "id": "6361c7ef-ad92-4a0a-a65d-a95efe2e3b1c",
   "metadata": {},
   "source": [
    "At this point, all the fields are numerical, both for the dummy variable approach and the nominal approach.  \n",
    "Upon reflection, the choice of looking at the target variable as \"COMPLETED\" with 0 meaning dropped out, or the target variable as \"DROPOUT\" with 1 meaning dropped out, is arbitrary, but presumably we are looking for dropouts and not successes. So we change the target values to their opposites."
   ]
  },
  {
   "cell_type": "code",
   "execution_count": 73,
   "id": "afc80e8b-16ba-428c-920e-d3d2819bae0f",
   "metadata": {},
   "outputs": [],
   "source": [
    "dropout=1-df.completed\n",
    "df['dropout']=dropout\n",
    "df=df.drop(columns=['completed'])"
   ]
  },
  {
   "cell_type": "code",
   "execution_count": 74,
   "id": "b2d9e4e4-7521-4a8b-86df-1576e96aee46",
   "metadata": {},
   "outputs": [],
   "source": [
    "df2=df \n",
    "# to experiment with"
   ]
  },
  {
   "cell_type": "markdown",
   "id": "eed6c55f-3df5-41e1-a812-6f0bb09905a0",
   "metadata": {},
   "source": [
    "Let's look at labeling and dummying"
   ]
  },
  {
   "cell_type": "code",
   "execution_count": 75,
   "id": "13a27036-48fb-459d-a397-13c6fcd487e3",
   "metadata": {},
   "outputs": [
    {
     "name": "stdout",
     "output_type": "stream",
     "text": [
      "(15657, 74)\n"
     ]
    },
    {
     "data": {
      "text/html": [
       "<div>\n",
       "<style scoped>\n",
       "    .dataframe tbody tr th:only-of-type {\n",
       "        vertical-align: middle;\n",
       "    }\n",
       "\n",
       "    .dataframe tbody tr th {\n",
       "        vertical-align: top;\n",
       "    }\n",
       "\n",
       "    .dataframe thead th {\n",
       "        text-align: right;\n",
       "    }\n",
       "</style>\n",
       "<table border=\"1\" class=\"dataframe\">\n",
       "  <thead>\n",
       "    <tr style=\"text-align: right;\">\n",
       "      <th></th>\n",
       "      <th>Gender</th>\n",
       "      <th>grantpct</th>\n",
       "      <th>transfer</th>\n",
       "      <th>gpa_first_year</th>\n",
       "      <th>hsgpa</th>\n",
       "      <th>minor</th>\n",
       "      <th>maj2</th>\n",
       "      <th>pop_city</th>\n",
       "      <th>foreign</th>\n",
       "      <th>sat_act</th>\n",
       "      <th>...</th>\n",
       "      <th>hsstate_Unknown Nation</th>\n",
       "      <th>ethnicity_1. Non Resident Alien</th>\n",
       "      <th>ethnicity_2. Unknown</th>\n",
       "      <th>ethnicity_3. Hispanic</th>\n",
       "      <th>ethnicity_4. American Indian or Alaskan Native</th>\n",
       "      <th>ethnicity_5. Asian</th>\n",
       "      <th>ethnicity_6. Black or African American</th>\n",
       "      <th>ethnicity_7. Native Hawaiian and Other Pacific Islander</th>\n",
       "      <th>ethnicity_8. White</th>\n",
       "      <th>ethnicity_9. Two or more races</th>\n",
       "    </tr>\n",
       "  </thead>\n",
       "  <tbody>\n",
       "    <tr>\n",
       "      <th>0</th>\n",
       "      <td>1</td>\n",
       "      <td>0.218978</td>\n",
       "      <td>0</td>\n",
       "      <td>0.919271</td>\n",
       "      <td>0.893273</td>\n",
       "      <td>0</td>\n",
       "      <td>0</td>\n",
       "      <td>0</td>\n",
       "      <td>0</td>\n",
       "      <td>0.732673</td>\n",
       "      <td>...</td>\n",
       "      <td>0</td>\n",
       "      <td>0</td>\n",
       "      <td>0</td>\n",
       "      <td>0</td>\n",
       "      <td>0</td>\n",
       "      <td>0</td>\n",
       "      <td>0</td>\n",
       "      <td>0</td>\n",
       "      <td>1</td>\n",
       "      <td>0</td>\n",
       "    </tr>\n",
       "    <tr>\n",
       "      <th>1</th>\n",
       "      <td>2</td>\n",
       "      <td>0.233577</td>\n",
       "      <td>1</td>\n",
       "      <td>0.958333</td>\n",
       "      <td>0.853909</td>\n",
       "      <td>0</td>\n",
       "      <td>0</td>\n",
       "      <td>1</td>\n",
       "      <td>0</td>\n",
       "      <td>0.584158</td>\n",
       "      <td>...</td>\n",
       "      <td>0</td>\n",
       "      <td>0</td>\n",
       "      <td>0</td>\n",
       "      <td>0</td>\n",
       "      <td>0</td>\n",
       "      <td>0</td>\n",
       "      <td>0</td>\n",
       "      <td>0</td>\n",
       "      <td>1</td>\n",
       "      <td>0</td>\n",
       "    </tr>\n",
       "    <tr>\n",
       "      <th>2</th>\n",
       "      <td>1</td>\n",
       "      <td>0.000000</td>\n",
       "      <td>0</td>\n",
       "      <td>0.947917</td>\n",
       "      <td>0.790636</td>\n",
       "      <td>0</td>\n",
       "      <td>0</td>\n",
       "      <td>1</td>\n",
       "      <td>0</td>\n",
       "      <td>0.583333</td>\n",
       "      <td>...</td>\n",
       "      <td>0</td>\n",
       "      <td>0</td>\n",
       "      <td>0</td>\n",
       "      <td>0</td>\n",
       "      <td>0</td>\n",
       "      <td>0</td>\n",
       "      <td>0</td>\n",
       "      <td>0</td>\n",
       "      <td>1</td>\n",
       "      <td>0</td>\n",
       "    </tr>\n",
       "    <tr>\n",
       "      <th>3</th>\n",
       "      <td>2</td>\n",
       "      <td>0.000000</td>\n",
       "      <td>0</td>\n",
       "      <td>0.916667</td>\n",
       "      <td>0.855545</td>\n",
       "      <td>0</td>\n",
       "      <td>0</td>\n",
       "      <td>1</td>\n",
       "      <td>0</td>\n",
       "      <td>0.613861</td>\n",
       "      <td>...</td>\n",
       "      <td>0</td>\n",
       "      <td>0</td>\n",
       "      <td>0</td>\n",
       "      <td>0</td>\n",
       "      <td>0</td>\n",
       "      <td>0</td>\n",
       "      <td>0</td>\n",
       "      <td>0</td>\n",
       "      <td>1</td>\n",
       "      <td>0</td>\n",
       "    </tr>\n",
       "    <tr>\n",
       "      <th>4</th>\n",
       "      <td>2</td>\n",
       "      <td>0.109489</td>\n",
       "      <td>0</td>\n",
       "      <td>0.712121</td>\n",
       "      <td>0.758455</td>\n",
       "      <td>0</td>\n",
       "      <td>0</td>\n",
       "      <td>0</td>\n",
       "      <td>0</td>\n",
       "      <td>0.375000</td>\n",
       "      <td>...</td>\n",
       "      <td>0</td>\n",
       "      <td>0</td>\n",
       "      <td>0</td>\n",
       "      <td>0</td>\n",
       "      <td>0</td>\n",
       "      <td>0</td>\n",
       "      <td>0</td>\n",
       "      <td>0</td>\n",
       "      <td>1</td>\n",
       "      <td>0</td>\n",
       "    </tr>\n",
       "  </tbody>\n",
       "</table>\n",
       "<p>5 rows × 74 columns</p>\n",
       "</div>"
      ],
      "text/plain": [
       "   Gender  grantpct  transfer  gpa_first_year     hsgpa  minor  maj2  \\\n",
       "0       1  0.218978         0        0.919271  0.893273      0     0   \n",
       "1       2  0.233577         1        0.958333  0.853909      0     0   \n",
       "2       1  0.000000         0        0.947917  0.790636      0     0   \n",
       "3       2  0.000000         0        0.916667  0.855545      0     0   \n",
       "4       2  0.109489         0        0.712121  0.758455      0     0   \n",
       "\n",
       "   pop_city  foreign   sat_act  ...  hsstate_Unknown Nation  \\\n",
       "0         0        0  0.732673  ...                       0   \n",
       "1         1        0  0.584158  ...                       0   \n",
       "2         1        0  0.583333  ...                       0   \n",
       "3         1        0  0.613861  ...                       0   \n",
       "4         0        0  0.375000  ...                       0   \n",
       "\n",
       "   ethnicity_1. Non Resident Alien  ethnicity_2. Unknown  \\\n",
       "0                                0                     0   \n",
       "1                                0                     0   \n",
       "2                                0                     0   \n",
       "3                                0                     0   \n",
       "4                                0                     0   \n",
       "\n",
       "   ethnicity_3. Hispanic  ethnicity_4. American Indian or Alaskan Native  \\\n",
       "0                      0                                               0   \n",
       "1                      0                                               0   \n",
       "2                      0                                               0   \n",
       "3                      0                                               0   \n",
       "4                      0                                               0   \n",
       "\n",
       "   ethnicity_5. Asian  ethnicity_6. Black or African American  \\\n",
       "0                   0                                       0   \n",
       "1                   0                                       0   \n",
       "2                   0                                       0   \n",
       "3                   0                                       0   \n",
       "4                   0                                       0   \n",
       "\n",
       "   ethnicity_7. Native Hawaiian and Other Pacific Islander  \\\n",
       "0                                                  0         \n",
       "1                                                  0         \n",
       "2                                                  0         \n",
       "3                                                  0         \n",
       "4                                                  0         \n",
       "\n",
       "   ethnicity_8. White  ethnicity_9. Two or more races  \n",
       "0                   1                               0  \n",
       "1                   1                               0  \n",
       "2                   1                               0  \n",
       "3                   1                               0  \n",
       "4                   1                               0  \n",
       "\n",
       "[5 rows x 74 columns]"
      ]
     },
     "execution_count": 75,
     "metadata": {},
     "output_type": "execute_result"
    }
   ],
   "source": [
    "df=pd.get_dummies(df)\n",
    "print(df.shape)\n",
    "df.head()"
   ]
  },
  {
   "cell_type": "markdown",
   "id": "94ecae08",
   "metadata": {},
   "source": [
    "Finished with the dummy variables; now trying labeling on the copy set"
   ]
  },
  {
   "cell_type": "code",
   "execution_count": 76,
   "id": "c2ae188d-2e19-461a-8608-9c8871a9b6f4",
   "metadata": {},
   "outputs": [],
   "source": [
    "from sklearn.preprocessing import LabelEncoder\n",
    "le=LabelEncoder()\n",
    "\n",
    "eapp=le.fit_transform(df2.Major)\n",
    "df2['Major']=eapp\n",
    "\n",
    "eeth=le.fit_transform(df2.ethnicity)\n",
    "df2['ethnicity']=eeth\n",
    "\n",
    "est=le.fit_transform(df2.statapp)\n",
    "df2['statapp']=est\n",
    "\n",
    "ehst=le.fit_transform(df2.hsstate)\n",
    "df2['hsstate']=ehst\n"
   ]
  },
  {
   "cell_type": "code",
   "execution_count": 77,
   "id": "4dce1c41-9ef3-4122-ba49-2bbc5fae13e5",
   "metadata": {},
   "outputs": [
    {
     "data": {
      "text/plain": [
       "(15657, 16)"
      ]
     },
     "execution_count": 77,
     "metadata": {},
     "output_type": "execute_result"
    }
   ],
   "source": [
    "df2.shape"
   ]
  },
  {
   "cell_type": "code",
   "execution_count": 78,
   "id": "c7e00f81-82c9-49fc-83d4-665e82536598",
   "metadata": {},
   "outputs": [
    {
     "data": {
      "text/plain": [
       "(15657, 74)"
      ]
     },
     "execution_count": 78,
     "metadata": {},
     "output_type": "execute_result"
    }
   ],
   "source": [
    "df.shape"
   ]
  },
  {
   "cell_type": "markdown",
   "id": "ce78bd5a",
   "metadata": {},
   "source": [
    "Now, finally, we can analyze!  \n",
    "First split into train and test sets."
   ]
  },
  {
   "cell_type": "code",
   "execution_count": 79,
   "id": "f7fd0422",
   "metadata": {},
   "outputs": [],
   "source": [
    "X=df.drop(columns=['dropout'])\n",
    "y=df.dropout"
   ]
  },
  {
   "cell_type": "code",
   "execution_count": 80,
   "id": "7d8f78d7",
   "metadata": {},
   "outputs": [],
   "source": [
    "from sklearn.model_selection import train_test_split\n",
    "X_train, X_test, y_train, y_test = train_test_split(X, y, test_size = 0.2)"
   ]
  },
  {
   "cell_type": "markdown",
   "id": "ee070456",
   "metadata": {},
   "source": [
    "Which model to choose? For the classification maybe the random forest classifier is most forgiving to non-standardized data."
   ]
  },
  {
   "cell_type": "code",
   "execution_count": 81,
   "id": "8d312857",
   "metadata": {},
   "outputs": [],
   "source": [
    "from sklearn.ensemble import RandomForestClassifier\n",
    "from sklearn import metrics  \n",
    "from sklearn.feature_selection import SelectFromModel"
   ]
  },
  {
   "cell_type": "code",
   "execution_count": 82,
   "id": "0eaf0fbc",
   "metadata": {},
   "outputs": [
    {
     "name": "stdout",
     "output_type": "stream",
     "text": [
      "ACCURACY OF THE MODEL:  0.8106641123882503\n",
      "Recall  0.22590361445783133\n",
      "F1 score  0.335946248600224\n",
      "overall report \n",
      "               precision    recall  f1-score   support\n",
      "\n",
      "           0       0.82      0.97      0.89      2468\n",
      "           1       0.66      0.23      0.34       664\n",
      "\n",
      "    accuracy                           0.81      3132\n",
      "   macro avg       0.74      0.60      0.61      3132\n",
      "weighted avg       0.79      0.81      0.77      3132\n",
      "\n",
      "confusion matrix \n",
      " [[2389   79]\n",
      " [ 514  150]]\n"
     ]
    }
   ],
   "source": [
    "clf = RandomForestClassifier(n_estimators = 100)  \n",
    "f=SelectFromModel(clf)  \n",
    "f.fit(X_train, y_train)\n",
    "  \n",
    "clf.fit(X_train, y_train)\n",
    "y_pred = clf.predict(X_test)\n",
    "  \n",
    "\n",
    "    \n",
    "print(\"ACCURACY OF THE MODEL: \", metrics.accuracy_score(y_test, y_pred))\n",
    "print(\"Recall \", metrics.recall_score(y_test,y_pred))\n",
    "print(\"F1 score \",metrics.f1_score(y_test,y_pred))\n",
    "print(\"overall report \\n\", metrics.classification_report(y_test,y_pred))\n",
    "print(\"confusion matrix \\n\",metrics.confusion_matrix(y_test,y_pred))"
   ]
  },
  {
   "cell_type": "markdown",
   "id": "5e2d9e02",
   "metadata": {},
   "source": [
    "What are the main features?"
   ]
  },
  {
   "cell_type": "code",
   "execution_count": 83,
   "id": "00bdfe63",
   "metadata": {},
   "outputs": [
    {
     "name": "stdout",
     "output_type": "stream",
     "text": [
      "Index(['Gender', 'grantpct', 'transfer', 'gpa_first_year', 'hsgpa', 'pop_city',\n",
      "       'sat_act', 'Major_BUS', 'Major_UND'],\n",
      "      dtype='object')\n"
     ]
    }
   ],
   "source": [
    "rf_feat_imp=f.get_support()\n",
    "print(X_train.columns[rf_feat_imp])"
   ]
  },
  {
   "cell_type": "markdown",
   "id": "841efd8a",
   "metadata": {},
   "source": [
    "This is very discouraging. The model accuracy is only about 82%, when the baseline is about 80%. Comparable accuracy would be achieved by predicting that nobody would drop out!  \n",
    "Even worse, the statistic we really care about is probably not accuracy but recall. We want to find all the dropouts even if we get some false positives. The recall value is only about 23% (150/664). Perhaps the other encoding method will be better."
   ]
  },
  {
   "cell_type": "markdown",
   "id": "02b467e6",
   "metadata": {},
   "source": [
    "Still, which features figures most into the model?"
   ]
  },
  {
   "cell_type": "code",
   "execution_count": 84,
   "id": "57ec979b",
   "metadata": {},
   "outputs": [
    {
     "data": {
      "text/plain": [
       "gpa_first_year                                             2.407983e-01\n",
       "hsgpa                                                      1.491993e-01\n",
       "sat_act                                                    1.336272e-01\n",
       "grantpct                                                   1.161373e-01\n",
       "Gender                                                     1.994977e-02\n",
       "                                                               ...     \n",
       "statapp_MO                                                 8.661306e-04\n",
       "ethnicity_4. American Indian or Alaskan Native             4.720364e-04\n",
       "ethnicity_6. Black or African American                     3.350676e-04\n",
       "ethnicity_5. Asian                                         3.142248e-04\n",
       "ethnicity_7. Native Hawaiian and Other Pacific Islander    2.361454e-07\n",
       "Length: 73, dtype: float64"
      ]
     },
     "execution_count": 84,
     "metadata": {},
     "output_type": "execute_result"
    }
   ],
   "source": [
    "feature_imp = pd.Series(clf.feature_importances_, index = X.columns).sort_values(ascending = False)\n",
    "feature_imp"
   ]
  },
  {
   "cell_type": "markdown",
   "id": "98828051",
   "metadata": {},
   "source": [
    "Not surprisingly, first year GPA is the best predictor and HS gpa and SAT/ACT scores are the next predictors."
   ]
  },
  {
   "cell_type": "markdown",
   "id": "d26ad751",
   "metadata": {},
   "source": [
    "In case the better encoding is with dummy variables, let's see if that affects the model"
   ]
  },
  {
   "cell_type": "code",
   "execution_count": 85,
   "id": "f0e664ed",
   "metadata": {},
   "outputs": [],
   "source": [
    "X2=df2.drop(columns=['dropout'])\n",
    "y2=df2.dropout"
   ]
  },
  {
   "cell_type": "code",
   "execution_count": 86,
   "id": "77780256",
   "metadata": {},
   "outputs": [],
   "source": [
    "X2_train, X2_test, y2_train, y2_test = train_test_split(X2, y2, test_size = 0.2)"
   ]
  },
  {
   "cell_type": "code",
   "execution_count": 87,
   "id": "d0a8f771",
   "metadata": {},
   "outputs": [
    {
     "name": "stdout",
     "output_type": "stream",
     "text": [
      "ACCURACY OF THE MODEL:  0.8151340996168582\n",
      "Recall  0.2217125382262997\n",
      "F1 score  0.333716915995397\n",
      "confusion matrix \n",
      " [[2408   70]\n",
      " [ 509  145]]\n"
     ]
    }
   ],
   "source": [
    "clf2 = RandomForestClassifier(n_estimators = 100)  \n",
    "f2=SelectFromModel(clf2)  \n",
    "f2.fit(X2_train, y2_train)\n",
    "  \n",
    "clf2.fit(X2_train, y2_train)\n",
    "  \n",
    "y2_pred = clf2.predict(X2_test)\n",
    "  \n",
    "print(\"ACCURACY OF THE MODEL: \", metrics.accuracy_score(y2_test, y2_pred))\n",
    "print(\"Recall \", metrics.recall_score(y2_test,y2_pred))\n",
    "print(\"F1 score \", metrics.f1_score(y2_test,y2_pred))\n",
    "print(\"confusion matrix \\n\",metrics.confusion_matrix(y2_test,y2_pred))"
   ]
  },
  {
   "cell_type": "code",
   "execution_count": 88,
   "id": "3391c5ad",
   "metadata": {},
   "outputs": [
    {
     "name": "stdout",
     "output_type": "stream",
     "text": [
      "Index(['Major', 'grantpct', 'gpa_first_year', 'hsgpa', 'sat_act'], dtype='object')\n"
     ]
    },
    {
     "data": {
      "text/plain": [
       "gpa_first_year    0.265419\n",
       "hsgpa             0.166538\n",
       "sat_act           0.148413\n",
       "grantpct          0.126602\n",
       "Major             0.076162\n",
       "statapp           0.060299\n",
       "hsstate           0.056701\n",
       "Gender            0.019110\n",
       "ethnicity         0.017032\n",
       "pop_city          0.016719\n",
       "dtype: float64"
      ]
     },
     "execution_count": 88,
     "metadata": {},
     "output_type": "execute_result"
    }
   ],
   "source": [
    "rf_feat2_imp=f2.get_support()\n",
    "print(X2_train.columns[rf_feat2_imp])\n",
    "feature_imp2 = pd.Series(clf2.feature_importances_, index = X2.columns).sort_values(ascending = False)\n",
    "feature_imp2[:10]"
   ]
  },
  {
   "cell_type": "markdown",
   "id": "909caeee",
   "metadata": {},
   "source": [
    "At this point we cannot rule out the possibility that the known data regarding the student at the time of enrollment may be sufficient to predict failure to a satisfactory degree of reliability; however we have been unable to design the model to execute it. Likewise, we have been unable to predict the final GPA from the initial conditions."
   ]
  },
  {
   "cell_type": "markdown",
   "id": "c54dbe3a",
   "metadata": {},
   "source": [
    "How could the model be improved? Several ways suggest themselves. Possibly better feature engineering would be effective; possibly a different classifier would do better. Perhaps using a logistic regression would be better here, since we can adjust the threshhold of probability to flag failure and success."
   ]
  },
  {
   "cell_type": "markdown",
   "id": "5fd923b8",
   "metadata": {},
   "source": [
    "Let's try another model- KNN"
   ]
  },
  {
   "cell_type": "code",
   "execution_count": 89,
   "id": "754b0502",
   "metadata": {},
   "outputs": [],
   "source": [
    "from sklearn.neighbors import KNeighborsClassifier\n",
    "knn = KNeighborsClassifier()"
   ]
  },
  {
   "cell_type": "code",
   "execution_count": 90,
   "id": "73812cb1",
   "metadata": {},
   "outputs": [
    {
     "data": {
      "text/html": [
       "<style>#sk-container-id-1 {color: black;background-color: white;}#sk-container-id-1 pre{padding: 0;}#sk-container-id-1 div.sk-toggleable {background-color: white;}#sk-container-id-1 label.sk-toggleable__label {cursor: pointer;display: block;width: 100%;margin-bottom: 0;padding: 0.3em;box-sizing: border-box;text-align: center;}#sk-container-id-1 label.sk-toggleable__label-arrow:before {content: \"▸\";float: left;margin-right: 0.25em;color: #696969;}#sk-container-id-1 label.sk-toggleable__label-arrow:hover:before {color: black;}#sk-container-id-1 div.sk-estimator:hover label.sk-toggleable__label-arrow:before {color: black;}#sk-container-id-1 div.sk-toggleable__content {max-height: 0;max-width: 0;overflow: hidden;text-align: left;background-color: #f0f8ff;}#sk-container-id-1 div.sk-toggleable__content pre {margin: 0.2em;color: black;border-radius: 0.25em;background-color: #f0f8ff;}#sk-container-id-1 input.sk-toggleable__control:checked~div.sk-toggleable__content {max-height: 200px;max-width: 100%;overflow: auto;}#sk-container-id-1 input.sk-toggleable__control:checked~label.sk-toggleable__label-arrow:before {content: \"▾\";}#sk-container-id-1 div.sk-estimator input.sk-toggleable__control:checked~label.sk-toggleable__label {background-color: #d4ebff;}#sk-container-id-1 div.sk-label input.sk-toggleable__control:checked~label.sk-toggleable__label {background-color: #d4ebff;}#sk-container-id-1 input.sk-hidden--visually {border: 0;clip: rect(1px 1px 1px 1px);clip: rect(1px, 1px, 1px, 1px);height: 1px;margin: -1px;overflow: hidden;padding: 0;position: absolute;width: 1px;}#sk-container-id-1 div.sk-estimator {font-family: monospace;background-color: #f0f8ff;border: 1px dotted black;border-radius: 0.25em;box-sizing: border-box;margin-bottom: 0.5em;}#sk-container-id-1 div.sk-estimator:hover {background-color: #d4ebff;}#sk-container-id-1 div.sk-parallel-item::after {content: \"\";width: 100%;border-bottom: 1px solid gray;flex-grow: 1;}#sk-container-id-1 div.sk-label:hover label.sk-toggleable__label {background-color: #d4ebff;}#sk-container-id-1 div.sk-serial::before {content: \"\";position: absolute;border-left: 1px solid gray;box-sizing: border-box;top: 0;bottom: 0;left: 50%;z-index: 0;}#sk-container-id-1 div.sk-serial {display: flex;flex-direction: column;align-items: center;background-color: white;padding-right: 0.2em;padding-left: 0.2em;position: relative;}#sk-container-id-1 div.sk-item {position: relative;z-index: 1;}#sk-container-id-1 div.sk-parallel {display: flex;align-items: stretch;justify-content: center;background-color: white;position: relative;}#sk-container-id-1 div.sk-item::before, #sk-container-id-1 div.sk-parallel-item::before {content: \"\";position: absolute;border-left: 1px solid gray;box-sizing: border-box;top: 0;bottom: 0;left: 50%;z-index: -1;}#sk-container-id-1 div.sk-parallel-item {display: flex;flex-direction: column;z-index: 1;position: relative;background-color: white;}#sk-container-id-1 div.sk-parallel-item:first-child::after {align-self: flex-end;width: 50%;}#sk-container-id-1 div.sk-parallel-item:last-child::after {align-self: flex-start;width: 50%;}#sk-container-id-1 div.sk-parallel-item:only-child::after {width: 0;}#sk-container-id-1 div.sk-dashed-wrapped {border: 1px dashed gray;margin: 0 0.4em 0.5em 0.4em;box-sizing: border-box;padding-bottom: 0.4em;background-color: white;}#sk-container-id-1 div.sk-label label {font-family: monospace;font-weight: bold;display: inline-block;line-height: 1.2em;}#sk-container-id-1 div.sk-label-container {text-align: center;}#sk-container-id-1 div.sk-container {/* jupyter's `normalize.less` sets `[hidden] { display: none; }` but bootstrap.min.css set `[hidden] { display: none !important; }` so we also need the `!important` here to be able to override the default hidden behavior on the sphinx rendered scikit-learn.org. See: https://github.com/scikit-learn/scikit-learn/issues/21755 */display: inline-block !important;position: relative;}#sk-container-id-1 div.sk-text-repr-fallback {display: none;}</style><div id=\"sk-container-id-1\" class=\"sk-top-container\"><div class=\"sk-text-repr-fallback\"><pre>KNeighborsClassifier()</pre><b>In a Jupyter environment, please rerun this cell to show the HTML representation or trust the notebook. <br />On GitHub, the HTML representation is unable to render, please try loading this page with nbviewer.org.</b></div><div class=\"sk-container\" hidden><div class=\"sk-item\"><div class=\"sk-estimator sk-toggleable\"><input class=\"sk-toggleable__control sk-hidden--visually\" id=\"sk-estimator-id-1\" type=\"checkbox\" checked><label for=\"sk-estimator-id-1\" class=\"sk-toggleable__label sk-toggleable__label-arrow\">KNeighborsClassifier</label><div class=\"sk-toggleable__content\"><pre>KNeighborsClassifier()</pre></div></div></div></div></div>"
      ],
      "text/plain": [
       "KNeighborsClassifier()"
      ]
     },
     "execution_count": 90,
     "metadata": {},
     "output_type": "execute_result"
    }
   ],
   "source": [
    "knn.fit(X_train,y_train)"
   ]
  },
  {
   "cell_type": "code",
   "execution_count": 91,
   "id": "061e34d3",
   "metadata": {},
   "outputs": [],
   "source": [
    "import warnings\n",
    "warnings.filterwarnings(\"ignore\")\n",
    "y_pred2=knn.predict(X_test)"
   ]
  },
  {
   "cell_type": "code",
   "execution_count": 92,
   "id": "876baa1d",
   "metadata": {},
   "outputs": [
    {
     "name": "stdout",
     "output_type": "stream",
     "text": [
      "ACCURACY OF THE MODEL:  0.7761813537675607\n",
      "Recall  0.18674698795180722\n",
      "F1 score  0.2613277133825079\n",
      "confusion matrix \n",
      " [[2307  161]\n",
      " [ 540  124]]\n"
     ]
    }
   ],
   "source": [
    "print(\"ACCURACY OF THE MODEL: \", metrics.accuracy_score(y_test, y_pred2))\n",
    "print(\"Recall \", metrics.recall_score(y_test,y_pred2))\n",
    "print(\"F1 score \",metrics.f1_score(y_test,y_pred2))\n",
    "print(\"confusion matrix \\n\",metrics.confusion_matrix(y_test,y_pred2))"
   ]
  },
  {
   "cell_type": "markdown",
   "id": "6705c68f",
   "metadata": {},
   "source": [
    "Since that was no better, let's try the logistic regression"
   ]
  },
  {
   "cell_type": "code",
   "execution_count": 93,
   "id": "8206c897",
   "metadata": {},
   "outputs": [
    {
     "data": {
      "text/plain": [
       "0.814176245210728"
      ]
     },
     "execution_count": 93,
     "metadata": {},
     "output_type": "execute_result"
    }
   ],
   "source": [
    "from sklearn.linear_model import LogisticRegression\n",
    "clf5=LogisticRegression(max_iter=200)\n",
    "clf5.fit(X_train,y_train)\n",
    "clf5.score(X_test,y_test)"
   ]
  },
  {
   "cell_type": "code",
   "execution_count": 94,
   "id": "a21e405a",
   "metadata": {},
   "outputs": [],
   "source": [
    "y_pred6=(clf5.predict_proba(X_test)[:,1]>.5).astype(int)"
   ]
  },
  {
   "cell_type": "code",
   "execution_count": 95,
   "id": "03e65605",
   "metadata": {},
   "outputs": [
    {
     "name": "stdout",
     "output_type": "stream",
     "text": [
      "ACCURACY OF THE MODEL:  0.814176245210728\n",
      "Recall  0.21385542168674698\n",
      "F1 score  0.3279445727482679\n",
      "confusion matrix \n",
      " [[2408   60]\n",
      " [ 522  142]]\n"
     ]
    }
   ],
   "source": [
    "print(\"ACCURACY OF THE MODEL: \", metrics.accuracy_score(y_test, y_pred6))\n",
    "print(\"Recall \", metrics.recall_score(y_test,y_pred6))\n",
    "print(\"F1 score \",metrics.f1_score(y_test,y_pred6))\n",
    "print(\"confusion matrix \\n\",metrics.confusion_matrix(y_test,y_pred6))"
   ]
  },
  {
   "cell_type": "markdown",
   "id": "d5dfbc05",
   "metadata": {},
   "source": [
    "encoded categoricals"
   ]
  },
  {
   "cell_type": "code",
   "execution_count": 96,
   "id": "9805eef3",
   "metadata": {},
   "outputs": [
    {
     "data": {
      "text/plain": [
       "0.8087484035759898"
      ]
     },
     "execution_count": 96,
     "metadata": {},
     "output_type": "execute_result"
    }
   ],
   "source": [
    "clf5.fit(X2_train,y2_train)\n",
    "clf5.score(X2_test,y2_test)"
   ]
  },
  {
   "cell_type": "markdown",
   "id": "ed3ac1e3",
   "metadata": {},
   "source": [
    "Let's try to adjust the threshold to improve the predictions"
   ]
  },
  {
   "cell_type": "code",
   "execution_count": 97,
   "id": "d61c52d3",
   "metadata": {},
   "outputs": [
    {
     "name": "stdout",
     "output_type": "stream",
     "text": [
      "ACCURACY OF THE MODEL:  0.7611749680715197\n",
      "Recall  0.4877675840978593\n",
      "F1 score  0.46031746031746035\n",
      "confusion matrix \n",
      " [[2065  413]\n",
      " [ 335  319]]\n"
     ]
    }
   ],
   "source": [
    "y2_pred6=(clf5.predict_proba(X2_test)[:,1]>.26).astype(int)\n",
    "print(\"ACCURACY OF THE MODEL: \", metrics.accuracy_score(y2_test, y2_pred6))\n",
    "print(\"Recall \", metrics.recall_score(y2_test,y2_pred6))\n",
    "print(\"F1 score \",metrics.f1_score(y2_test,y2_pred6))\n",
    "print(\"confusion matrix \\n\",metrics.confusion_matrix(y2_test,y2_pred6))"
   ]
  },
  {
   "cell_type": "markdown",
   "id": "4e05b77a",
   "metadata": {},
   "source": [
    "Let's adjust the cutoff probability"
   ]
  },
  {
   "cell_type": "code",
   "execution_count": 98,
   "id": "d609acb6",
   "metadata": {},
   "outputs": [
    {
     "name": "stdout",
     "output_type": "stream",
     "text": [
      "ACCURACY OF THE MODEL:  0.814176245210728\n",
      "Recall  0.21385542168674698\n",
      "F1 score  0.3279445727482679\n",
      "confusion matrix \n",
      " [[2408   60]\n",
      " [ 522  142]]\n"
     ]
    }
   ],
   "source": [
    "clf7=LogisticRegression(max_iter=200)\n",
    "clf7.fit(X_train,y_train)\n",
    "clf7.score(X_test,y_test)\n",
    "y_pred7=(clf7.predict_proba(X_test)[:,1]>.5).astype(int)\n",
    "print(\"ACCURACY OF THE MODEL: \", metrics.accuracy_score(y_test, y_pred7))\n",
    "print(\"Recall \", metrics.recall_score(y_test,y_pred7))\n",
    "print(\"F1 score \",metrics.f1_score(y_test,y_pred7))\n",
    "print(\"confusion matrix \\n\",metrics.confusion_matrix(y_test,y_pred7))"
   ]
  },
  {
   "cell_type": "markdown",
   "id": "37b2f96c",
   "metadata": {},
   "source": [
    "well, recall goes up, but the cost in false positives is too high. So no success with logistic regression either, beyond the 82%."
   ]
  },
  {
   "cell_type": "code",
   "execution_count": null,
   "id": "dbc00838",
   "metadata": {},
   "outputs": [],
   "source": []
  }
 ],
 "metadata": {
  "kernelspec": {
   "display_name": "Python 3 (ipykernel)",
   "language": "python",
   "name": "python3"
  },
  "language_info": {
   "codemirror_mode": {
    "name": "ipython",
    "version": 3
   },
   "file_extension": ".py",
   "mimetype": "text/x-python",
   "name": "python",
   "nbconvert_exporter": "python",
   "pygments_lexer": "ipython3",
   "version": "3.9.16"
  }
 },
 "nbformat": 4,
 "nbformat_minor": 5
}
